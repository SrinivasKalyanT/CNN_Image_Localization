{
 "cells": [
  {
   "cell_type": "code",
   "execution_count": 1,
   "id": "283aeee7",
   "metadata": {},
   "outputs": [],
   "source": [
    "import numpy as np\n",
    "def generate_sample():\n",
    "    # Generate random (x, y) coordinates within the 50x50 grid\n",
    "    x = np.random.randint(0, 50)\n",
    "    y = np.random.randint(0, 50)\n",
    "    \n",
    "    # Create a 50x50 image with all pixels set to 0\n",
    "    image = np.zeros((50,50))\n",
    "    \n",
    "    # Set the pixel at the random coordinates to 255\n",
    "    image[x, y] = 255\n",
    "    \n",
    "    return image, (x, y)\n",
    "\n",
    "# Generate dataset with 1000 samples\n",
    "num_samples = 1000\n",
    "dataset = [generate_sample() for _ in range(num_samples)]\n"
   ]
  },
  {
   "cell_type": "code",
   "execution_count": 2,
   "id": "736330d0",
   "metadata": {},
   "outputs": [
    {
     "name": "stdout",
     "output_type": "stream",
     "text": [
      "WARNING:tensorflow:From C:\\Users\\YESWIN\\Anaconda3\\Lib\\site-packages\\keras\\src\\losses.py:2976: The name tf.losses.sparse_softmax_cross_entropy is deprecated. Please use tf.compat.v1.losses.sparse_softmax_cross_entropy instead.\n",
      "\n",
      "WARNING:tensorflow:From C:\\Users\\YESWIN\\Anaconda3\\Lib\\site-packages\\keras\\src\\backend.py:873: The name tf.get_default_graph is deprecated. Please use tf.compat.v1.get_default_graph instead.\n",
      "\n",
      "WARNING:tensorflow:From C:\\Users\\YESWIN\\Anaconda3\\Lib\\site-packages\\keras\\src\\layers\\pooling\\max_pooling2d.py:161: The name tf.nn.max_pool is deprecated. Please use tf.nn.max_pool2d instead.\n",
      "\n",
      "Model: \"sequential\"\n",
      "_________________________________________________________________\n",
      " Layer (type)                Output Shape              Param #   \n",
      "=================================================================\n",
      " conv2d (Conv2D)             (None, 48, 48, 16)        160       \n",
      "                                                                 \n",
      " max_pooling2d (MaxPooling2  (None, 24, 24, 16)        0         \n",
      " D)                                                              \n",
      "                                                                 \n",
      " conv2d_1 (Conv2D)           (None, 22, 22, 32)        4640      \n",
      "                                                                 \n",
      " max_pooling2d_1 (MaxPoolin  (None, 11, 11, 32)        0         \n",
      " g2D)                                                            \n",
      "                                                                 \n",
      " conv2d_2 (Conv2D)           (None, 9, 9, 32)          9248      \n",
      "                                                                 \n",
      " max_pooling2d_2 (MaxPoolin  (None, 4, 4, 32)          0         \n",
      " g2D)                                                            \n",
      "                                                                 \n",
      " conv2d_3 (Conv2D)           (None, 2, 2, 32)          9248      \n",
      "                                                                 \n",
      " max_pooling2d_3 (MaxPoolin  (None, 1, 1, 32)          0         \n",
      " g2D)                                                            \n",
      "                                                                 \n",
      " flatten (Flatten)           (None, 32)                0         \n",
      "                                                                 \n",
      " dense (Dense)               (None, 64)                2112      \n",
      "                                                                 \n",
      " dense_1 (Dense)             (None, 2)                 130       \n",
      "                                                                 \n",
      "=================================================================\n",
      "Total params: 25538 (99.76 KB)\n",
      "Trainable params: 25538 (99.76 KB)\n",
      "Non-trainable params: 0 (0.00 Byte)\n",
      "_________________________________________________________________\n"
     ]
    }
   ],
   "source": [
    "import tensorflow as tf\n",
    "from tensorflow.keras import layers, models\n",
    "\n",
    "def create_model():\n",
    "    model = models.Sequential([\n",
    "        layers.Conv2D(16, (3, 3), activation='relu', input_shape=(50, 50, 1)),\n",
    "        layers.MaxPooling2D((2, 2)),\n",
    "        layers.Conv2D(32, (3, 3), activation='relu'),\n",
    "        layers.MaxPooling2D((2, 2)),\n",
    "        layers.Conv2D(32, (3, 3), activation='relu'),\n",
    "        layers.MaxPooling2D((2, 2)),\n",
    "        layers.Conv2D(32, (3, 3), activation='relu'),\n",
    "        layers.MaxPooling2D((2, 2)),\n",
    "        layers.Flatten(),\n",
    "        layers.Dense(64, activation='relu'),\n",
    "        layers.Dense(2)\n",
    "    ])\n",
    "    return model\n",
    "\n",
    "model = create_model()\n",
    "model.summary()\n"
   ]
  },
  {
   "cell_type": "code",
   "execution_count": 4,
   "id": "44a27598",
   "metadata": {},
   "outputs": [
    {
     "data": {
      "image/png": "[encoded data removed]",
      "text/plain": [
       "<Figure size 1200x600 with 10 Axes>"
      ]
     },
     "metadata": {},
     "output_type": "display_data"
    },
    {
     "name": "stdout",
     "output_type": "stream",
     "text": [
      "WARNING:tensorflow:From C:\\Users\\YESWIN\\Anaconda3\\Lib\\site-packages\\keras\\src\\optimizers\\__init__.py:309: The name tf.train.Optimizer is deprecated. Please use tf.compat.v1.train.Optimizer instead.\n",
      "\n",
      "Epoch 1/20\n",
      "WARNING:tensorflow:From C:\\Users\\YESWIN\\Anaconda3\\Lib\\site-packages\\keras\\src\\utils\\tf_utils.py:492: The name tf.ragged.RaggedTensorValue is deprecated. Please use tf.compat.v1.ragged.RaggedTensorValue instead.\n",
      "\n",
      "WARNING:tensorflow:From C:\\Users\\YESWIN\\Anaconda3\\Lib\\site-packages\\keras\\src\\engine\\base_layer_utils.py:384: The name tf.executing_eagerly_outside_functions is deprecated. Please use tf.compat.v1.executing_eagerly_outside_functions instead.\n",
      "\n",
      "25/25 [==============================] - 2s 27ms/step - loss: 588.3116 - mae: 19.0490 - val_loss: 369.0707 - val_mae: 12.7061\n",
      "Epoch 2/20\n",
      "25/25 [==============================] - 0s 10ms/step - loss: 320.3385 - mae: 11.1746 - val_loss: 281.0912 - val_mae: 9.8697\n",
      "Epoch 3/20\n",
      "25/25 [==============================] - 0s 10ms/step - loss: 265.9315 - mae: 9.0716 - val_loss: 248.0370 - val_mae: 8.4727\n",
      "Epoch 4/20\n",
      "25/25 [==============================] - 0s 14ms/step - loss: 240.7666 - mae: 8.0935 - val_loss: 224.9758 - val_mae: 8.2624\n",
      "Epoch 5/20\n",
      "25/25 [==============================] - 0s 11ms/step - loss: 214.5240 - mae: 7.7061 - val_loss: 190.5128 - val_mae: 7.6485\n",
      "Epoch 6/20\n",
      "25/25 [==============================] - 0s 10ms/step - loss: 167.5520 - mae: 7.1006 - val_loss: 120.9171 - val_mae: 6.4886\n",
      "Epoch 7/20\n",
      "25/25 [==============================] - 0s 10ms/step - loss: 95.8395 - mae: 6.0867 - val_loss: 81.9019 - val_mae: 6.4237\n",
      "Epoch 8/20\n",
      "25/25 [==============================] - 0s 10ms/step - loss: 65.7400 - mae: 5.1685 - val_loss: 58.7172 - val_mae: 4.8668\n",
      "Epoch 9/20\n",
      "25/25 [==============================] - 0s 10ms/step - loss: 56.2547 - mae: 4.6290 - val_loss: 53.7607 - val_mae: 4.7757\n",
      "Epoch 10/20\n",
      "25/25 [==============================] - 0s 10ms/step - loss: 51.8687 - mae: 4.3055 - val_loss: 46.0423 - val_mae: 4.0749\n",
      "Epoch 11/20\n",
      "25/25 [==============================] - 0s 13ms/step - loss: 49.9089 - mae: 4.0647 - val_loss: 44.6190 - val_mae: 3.9387\n",
      "Epoch 12/20\n",
      "25/25 [==============================] - 0s 11ms/step - loss: 48.5089 - mae: 3.8776 - val_loss: 43.4478 - val_mae: 3.8424\n",
      "Epoch 13/20\n",
      "25/25 [==============================] - 0s 13ms/step - loss: 48.2481 - mae: 3.9081 - val_loss: 41.9371 - val_mae: 3.7058\n",
      "Epoch 14/20\n",
      "25/25 [==============================] - 0s 12ms/step - loss: 47.0793 - mae: 3.6772 - val_loss: 41.0386 - val_mae: 3.5216\n",
      "Epoch 15/20\n",
      "25/25 [==============================] - 0s 9ms/step - loss: 46.9673 - mae: 3.5626 - val_loss: 40.7001 - val_mae: 3.5720\n",
      "Epoch 16/20\n",
      "25/25 [==============================] - 0s 10ms/step - loss: 46.5277 - mae: 3.5931 - val_loss: 42.8200 - val_mae: 4.0540\n",
      "Epoch 17/20\n",
      "25/25 [==============================] - 0s 10ms/step - loss: 46.9901 - mae: 3.7282 - val_loss: 41.2519 - val_mae: 3.7437\n",
      "Epoch 18/20\n",
      "25/25 [==============================] - 0s 15ms/step - loss: 46.5948 - mae: 3.5908 - val_loss: 40.9687 - val_mae: 3.7343\n",
      "Epoch 19/20\n",
      "25/25 [==============================] - 0s 10ms/step - loss: 46.8190 - mae: 3.6339 - val_loss: 39.4582 - val_mae: 3.3096\n",
      "Epoch 20/20\n",
      "25/25 [==============================] - 0s 10ms/step - loss: 46.1086 - mae: 3.3650 - val_loss: 40.9195 - val_mae: 3.7067\n"
     ]
    }
   ],
   "source": [
    "# Split dataset into training and validation sets\n",
    "import matplotlib.pyplot as plt\n",
    "\n",
    "train_ratio = 0.8\n",
    "train_size = int(train_ratio * num_samples)\n",
    "\n",
    "train_images = np.array([sample[0] for sample in dataset[:train_size]])\n",
    "train_labels = np.array([sample[1] for sample in dataset[:train_size]])\n",
    "\n",
    "val_images = np.array([sample[0] for sample in dataset[train_size:]])\n",
    "val_labels = np.array([sample[1] for sample in dataset[train_size:]])\n",
    "\n",
    "# Displaying the first 10 training images \n",
    "plt.figure(figsize=(12, 6))\n",
    "for i in range(10):\n",
    "    plt.subplot(2, 5, i+1)\n",
    "    plt.imshow(train_images[i].reshape(50, 50), cmap='gray')\n",
    "    plt.title(f\"Sample {i+1}\")\n",
    "    plt.axis('off')\n",
    "plt.show()\n",
    "\n",
    "train_images = train_images.reshape(-1, 50, 50, 1)\n",
    "val_images = val_images.reshape(-1, 50, 50, 1)\n",
    "\n",
    "# Compile and train the model\n",
    "model.compile(optimizer='adam', loss='mse', metrics=['mae'])\n",
    "history = model.fit(train_images, train_labels, epochs=20, batch_size=32, validation_data=(val_images, val_labels))\n"
   ]
  },
  {
   "cell_type": "code",
   "execution_count": 5,
   "id": "3a12e71d",
   "metadata": {},
   "outputs": [
    {
     "name": "stdout",
     "output_type": "stream",
     "text": [
      "7/7 [==============================] - 0s 6ms/step - loss: 40.9195 - mae: 3.7067\n",
      "Test Loss: 40.91952133178711, Test MAE: 3.7066845893859863\n",
      "7/7 [==============================] - 0s 6ms/step\n"
     ]
    },
    {
     "data": {
      "image/png": "[encoded data removed]",
      "text/plain": [
       "<Figure size 1000x500 with 5 Axes>"
      ]
     },
     "metadata": {},
     "output_type": "display_data"
    }
   ],
   "source": [
    "# Evaluate model on test set\n",
    "test_loss, test_mae = model.evaluate(val_images, val_labels)\n",
    "print(f\"Test Loss: {test_loss}, Test MAE: {test_mae}\")\n",
    "\n",
    "# Predict coordinates on validation set\n",
    "predictions = model.predict(val_images)\n",
    "\n",
    "# Visualize GT and Predicted points\n",
    "plt.figure(figsize=(10, 5))\n",
    "for i in range(5):\n",
    "    plt.subplot(2, 4, i+1)\n",
    "    plt.imshow(val_images[i].reshape(50, 50), cmap='gray')\n",
    "    plt.title(f\"GT: {val_labels[i]}, Pred: {predictions[i].astype(int)}\")\n",
    "    plt.scatter(val_labels[i][1], val_labels[i][0], c='r', marker='o', label='GT')  # GT point\n",
    "    plt.scatter(predictions[i][1], predictions[i][0], c='g', marker='x', label='Pred')  # Predicted point\n",
    "    plt.legend()\n",
    "    plt.axis('off')\n",
    "plt.show()\n"
   ]
  },
  {
   "cell_type": "code",
   "execution_count": null,
   "id": "fa349d8a",
   "metadata": {},
   "outputs": [],
   "source": []
  }
 ],
 "metadata": {
  "kernelspec": {
   "display_name": "Python 3 (ipykernel)",
   "language": "python",
   "name": "python3"
  },
  "language_info": {
   "codemirror_mode": {
    "name": "ipython",
    "version": 3
   },
   "file_extension": ".py",
   "mimetype": "text/x-python",
   "name": "python",
   "nbconvert_exporter": "python",
   "pygments_lexer": "ipython3",
   "version": "3.11.5"
  }
 },
 "nbformat": 4,
 "nbformat_minor": 5
}
